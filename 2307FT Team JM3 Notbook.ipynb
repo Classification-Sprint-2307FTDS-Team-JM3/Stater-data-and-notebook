{
 "cells": [
  {
   "cell_type": "markdown",
   "metadata": {},
   "source": [
    "```python\n",
    "Predict Overview:\n",
    "\n",
    "EA Twitter Sentiment Classification: \n",
    "```\n",
    "\n",
    "In response to the growing trend of companies prioritizing environmental impact reduction and sustainability, many have aligned their products and services with eco-friendly values. To enhance their market research efforts and assess potential consumer reception, these companies seek insights into public perceptions of climate change. As part of the Classification Sprint, EA has tasked us with developing a Machine Learning model capable of classifying individuals' beliefs in climate change based on novel tweet data. Successfully addressing this challenge will not only provide accurate and robust solutions but also offer companies a valuable tool to delve into diverse consumer sentiments across demographics and geographic regions, ultimately shaping informed and effective future marketing strategies.\n",
    "\n",
    "\n",
    "\n",
    "\n",
    "\n",
    "\n"
   ]
  },
  {
   "cell_type": "markdown",
   "metadata": {},
   "source": [
    "Dataset Overview"
   ]
  },
  {
   "cell_type": "code",
   "execution_count": null,
   "metadata": {},
   "outputs": [],
   "source": [
    "import pandas as pd"
   ]
  }
 ],
 "metadata": {
  "language_info": {
   "name": "python"
  }
 },
 "nbformat": 4,
 "nbformat_minor": 2
}
